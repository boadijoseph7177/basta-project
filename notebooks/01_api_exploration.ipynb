{
  "cells": [
    {
      "cell_type": "code",
      "execution_count": null,
      "metadata": {
        "id": "JIyfhSchYeEo"
      },
      "outputs": [],
      "source": [
        "\n",
        "import requests\n",
        "import json\n",
        "\n",
        "#Leetcode's GraphQL endpoint\n",
        "url = \"https://leetcode.com/graphql\"\n",
        "\n",
        "#query for user's profile and solved problem counts\n",
        "USER_STATS_QUERY = \"\"\"\n",
        "query getUserProfile($username: String!){\n",
        "  matchedUser(username: $username) {\n",
        "    username\n",
        "    profile {\n",
        "      ranking\n",
        "      reputation\n",
        "    }\n",
        "    submitStates: submitStatsGlobal {\n",
        "      acSubmissionNum {\n",
        "        difficulty\n",
        "        count\n",
        "        submissions\n",
        "      }\n",
        "    }\n",
        "  }\n",
        "}\n",
        "\"\"\"\n",
        "\n",
        "#query for recent submissions\n",
        "RECENT_SUBMISSIONS_QUERY = \"\"\"\n",
        "query recentSubmissions($username: String!) {\n",
        "  recentSubmissionList(username: $username, limit: 10){\n",
        "    title\n",
        "    titleSlug\n",
        "    statusDisplay\n",
        "    lang\n",
        "    timestamp\n",
        "  }\n",
        "}\n",
        "\"\"\"\n",
        "\n",
        "#query variables\n",
        "variables = {\n",
        "    #\"username\": \"YourLeetCodeUsername\"\n",
        "    \"username\": \"Joseph7177\"\n",
        "}\n",
        "\n",
        "# request payload\n",
        "# can test both USER_STATS_QUERY and RECENT_SUBMISSION_QUERY\n",
        "payload = {\n",
        "    \"query\": USER_STATS_QUERY,\n",
        "    \"variables\": variables\n",
        "}\n",
        "\n",
        "# POST request\n",
        "response = requests.post(url, json=payload)\n",
        "\n",
        "#check if request was succesful\n",
        "if response.status_code == 200:\n",
        "  #print json response in pretty format\n",
        "  data = response.json()\n",
        "  print(json.dumps(data, indent=4))\n",
        "else:\n",
        "  print(f\"Request failed with status code: {response.status_code}\")\n",
        "  print(response.text)"
      ]
    }
  ],
  "metadata": {
    "colab": {
      "provenance": []
    },
    "kernelspec": {
      "display_name": "Python 3",
      "name": "python3"
    },
    "language_info": {
      "name": "python"
    }
  },
  "nbformat": 4,
  "nbformat_minor": 0
}
